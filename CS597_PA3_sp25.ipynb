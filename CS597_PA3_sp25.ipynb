{
 "cells": [
  {
   "cell_type": "markdown",
   "id": "d4820ac8",
   "metadata": {},
   "source": [
    "## Assignment 3: Evaluation of Deep Learning Models on Image Classification\n",
    "\n",
    "### CS 597: Special Topics on Deep Learning\n",
    "\n",
    "### Adam Torek\n",
    "\n",
    "### Professor: Jun Zhuang\n",
    "\n",
    "### Spring 2025 Semester"
   ]
  },
  {
   "cell_type": "markdown",
   "id": "880c5830",
   "metadata": {},
   "source": [
    "### Library Imports/Setup\n",
    "\n",
    "<hr>"
   ]
  },
  {
   "cell_type": "code",
   "execution_count": 195,
   "id": "291588f0",
   "metadata": {
    "ExecuteTime": {
     "end_time": "2025-04-16T23:11:27.806190Z",
     "start_time": "2025-04-16T23:11:27.797214Z"
    }
   },
   "outputs": [],
   "source": [
    "# import pytorch models for evaluation\n",
    "import torch\n",
    "from torchvision.models import resnet50, swin_t, mobilenet_v3_large\n",
    "from torchvision.models import ResNet50_Weights, Swin_T_Weights, MobileNet_V3_Large_Weights\n",
    "# Import CIFAR10 Dataset for evaluation\n",
    "from torchvision.datasets import CIFAR10\n",
    "# Import Dataset and DataLoader libraries to make dataset management easier\n",
    "from torch.utils.data import DataLoader, Dataset\n",
    "# Import random transforms and normalizers to make image augmentation easier\n",
    "from torchvision.transforms import RandomHorizontalFlip, Normalize, ToTensor, Compose, RandomRotation\n",
    "# import tadaqum for monitoring training progress\n",
    "import tqdm\n",
    "\n",
    "# Import numpy and matplotlib to help with evaluations\n",
    "import numpy as np \n",
    "import matplotlib.pyplot as plt\n",
    "# Import metrics for binary image classification evaluation\n",
    "from sklearn.metrics import accuracy_score, precision_score, recall_score, f1_score, roc_curve, auc, RocCurveDisplay"
   ]
  },
  {
   "cell_type": "code",
   "execution_count": 196,
   "id": "08162666",
   "metadata": {
    "ExecuteTime": {
     "end_time": "2025-04-16T23:11:40.159863Z",
     "start_time": "2025-04-16T23:11:40.075458Z"
    }
   },
   "outputs": [],
   "source": [
    "# Set hyperparameter constants during training to make model evaluation more fair\n",
    "batch_size = 32\n",
    "num_epochs = 10\n",
    "learning_rate = 1e-4"
   ]
  },
  {
   "cell_type": "markdown",
   "id": "163a3b08",
   "metadata": {},
   "source": [
    "### Model Setup\n",
    "\n",
    "<hr>"
   ]
  },
  {
   "cell_type": "code",
   "execution_count": 215,
   "id": "fa7e9580",
   "metadata": {},
   "outputs": [],
   "source": [
    "# Set up model initializers and weights that will be used as backbones for binary fine-tuning\n",
    "MODEL_MAP = {\n",
    "    \"MobileNet-V3-Large\": mobilenet_v3_large,\n",
    "    \"Swin-Tiny\": swin_t,\n",
    "    \"ResNet-50\": resnet50,\n",
    "}\n",
    "\n",
    "MODEL_WEIGHTS_MAP = {\n",
    "    \"MobileNet-V3-Large\": MobileNet_V3_Large_Weights.DEFAULT,\n",
    "    \"Swin-Tiny\": Swin_T_Weights.DEFAULT,\n",
    "    \"ResNet-50\": ResNet50_Weights.DEFAULT,\n",
    "}"
   ]
  },
  {
   "cell_type": "code",
   "execution_count": 223,
   "id": "dd2dc84e",
   "metadata": {},
   "outputs": [],
   "source": [
    "\n",
    "class BinaryImageClassifier(torch.nn.Module):\n",
    "    \"\"\"PyTorch wrapper model that adds a simple binary classification head\n",
    "    and final softmax activation on top of a given base model.\"\"\"\n",
    "    def __init__(self, base_model, base_model_name):\n",
    "        super().__init__()\n",
    "        # Set up base image classification model for evaluation\n",
    "        self.base_model = base_model\n",
    "        self.base_model_name = base_model_name\n",
    "        # Get the number of dimensions of the last layer of the base model\n",
    "        # for the binary classification head\n",
    "        last_layer_features = None\n",
    "        if base_model_name == \"MobileNet-V3-Large\":\n",
    "            last_layer_features = base_model.classifier[-1].out_features\n",
    "        else:\n",
    "            last_layer_features = list(base_model.children())[-1].out_features\n",
    "        # Set up the binary classification head projection\n",
    "        self.classifier_layer = torch.nn.Linear(in_features=last_layer_features, out_features=2)\n",
    "        # Use softmax to turn the projected values into a probability distribution over both classes\n",
    "        self.softmax_activation = torch.nn.Softmax(dim=1)\n",
    "        # Disable the gradients of the base model (not really needed for training)\n",
    "        self.base_model.requires_grad_(False)\n",
    "\n",
    "    def forward(self, x):\n",
    "        # Get outputs from the base image classifier\n",
    "        sub_model_outputs = self.base_model(x)\n",
    "        # Project the outputs from the base model down to two values\n",
    "        classifier_predictions = self.classifier_layer(sub_model_outputs)\n",
    "        # Use softmax to convert final outputs into probability values\n",
    "        softmax_predictions = self.softmax_activation(classifier_predictions)\n",
    "        return softmax_predictions"
   ]
  },
  {
   "cell_type": "code",
   "execution_count": 224,
   "id": "1e1d3244",
   "metadata": {},
   "outputs": [],
   "source": [
    "def build_model(model_name, learning_rate):\n",
    "    \"\"\"Helper function to construct a binary image classifier from a given base model name \n",
    "    and also construct its associated AdamW optimizer with a specific learning rate.\"\"\"\n",
    "    # Construct the binary image classifier given a specific model name\n",
    "    # Also initialize the model with pretrained weights to increase accuracy\n",
    "    constructed_model = BinaryImageClassifier(MODEL_MAP[model_name](weights=MODEL_WEIGHTS_MAP[model_name]), model_name)\n",
    "    # Build the optimizer that will push the classification head's weights along the gradient\n",
    "    optimizer = torch.optim.AdamW(constructed_model.parameters(), lr=learning_rate)\n",
    "    # Return the constructed base model with binary classification head and associated optimizer\n",
    "    return (constructed_model, optimizer)"
   ]
  },
  {
   "cell_type": "markdown",
   "id": "8bedcd97",
   "metadata": {},
   "source": [
    "### Dataset Setup\n",
    "\n",
    "<hr>"
   ]
  },
  {
   "cell_type": "code",
   "execution_count": 225,
   "id": "44ae6eb0",
   "metadata": {
    "ExecuteTime": {
     "end_time": "2025-04-16T23:11:53.493207Z",
     "start_time": "2025-04-16T23:11:53.424878Z"
    }
   },
   "outputs": [],
   "source": [
    "class CIFARBinaryDataSet(Dataset):\n",
    "    \"\"\"Helper Dataset that converts CIFAR10 into a binary dataset by only using \n",
    "    the first two image labels of the dataset. This allows for easy conversion of \n",
    "    CIFAR10 from a multi-label classification task into a binary one, making it easy\n",
    "    to calculate precision, recall, f1-score, and ROC-AUC score.\"\"\"\n",
    "    def __init__(self, dataset_tuples, transforms=None):\n",
    "        # Initialize the dataset and specific transforms for image \n",
    "        # augmentation (only used if dataset is for training)\n",
    "        self.dataset_tuples = dataset_tuples\n",
    "        self.transforms = transforms\n",
    "        self.dataset_len = len(dataset_tuples)\n",
    "        self.tensor_transform = ToTensor()\n",
    "\n",
    "    def __len__(self):\n",
    "        # Return the total length of the dataset\n",
    "        return self.dataset_len\n",
    "    \n",
    "    def __getitem__(self, idx):\n",
    "        \"\"\"Helper function used to retrieve a specific image-label pair\n",
    "        from the binary image classification task.\"\"\"\n",
    "        # Extract the image and label\n",
    "        dataset_item = self.dataset_tuples[idx]\n",
    "        image = self.tensor_transform(dataset_item[0])\n",
    "        \n",
    "        # Convert the label from a binary one into a one-hot label\n",
    "        labels = [0,0]\n",
    "        labels[dataset_item[1]] = 1\n",
    "        # apply transforms if they are valid\n",
    "        if self.transforms:\n",
    "            image = self.transforms(image)\n",
    "        \n",
    "        # Return the image and label pair in a dictionary for easy retrieval later\n",
    "        return {\"image\": image, \"label\": torch.tensor(labels, dtype=torch.float)}  "
   ]
  },
  {
   "cell_type": "code",
   "execution_count": 226,
   "id": "2f048d1a",
   "metadata": {},
   "outputs": [],
   "source": [
    "def construct_cifar_dataloader(batch_size, is_train=True):\n",
    "    \"\"\"Helper function used for building a PyTorch DataLoader\n",
    "    that contains only the first two labels of the CIFAR10 dataset\n",
    "    for binary classification. Can construct a dataloader for the training\n",
    "    or test set of CIFAR10. Note: Image transforms are not applied for the test set.\"\"\"\n",
    "    # Build the total CIFAR10 dataset for extracting the first two image classes\n",
    "    cifar_dataset = CIFAR10(download=True, root=\"data\", train=is_train)\n",
    "    cifar_binary_data = []\n",
    "    cifar_extraction_dataloader = iter(cifar_dataset)\n",
    "\n",
    "    #Extract only the first two labeled images for use\n",
    "    for image, label in cifar_extraction_dataloader:\n",
    "        if label == 0 or label == 1:\n",
    "            cifar_binary_data.append((image, label))\n",
    "\n",
    "    # Apply image transforms for augmentation if used for training models\n",
    "    augmentation_transforms = None\n",
    "    if is_train:\n",
    "        augmentation_transforms = Compose([RandomHorizontalFlip(), RandomRotation(degrees=0.02), Normalize(mean=0, std=1)])\n",
    "\n",
    "    # Construct the CIFAR binary dataset and dataloaders with the given batch size\n",
    "    cifar_binary_dataset = CIFARBinaryDataSet(dataset_tuples=cifar_binary_data, transforms=augmentation_transforms)\n",
    "    cifar_binary_dataloader = DataLoader(cifar_binary_dataset, batch_size=batch_size, shuffle=False)\n",
    "\n",
    "    # return the data loader constructed from the CIFAR100 binary dataset\n",
    "    return cifar_binary_dataloader"
   ]
  },
  {
   "cell_type": "code",
   "execution_count": 227,
   "id": "ec040d94",
   "metadata": {
    "ExecuteTime": {
     "end_time": "2025-04-16T23:12:08.009650Z",
     "start_time": "2025-04-16T23:12:08.002044Z"
    }
   },
   "outputs": [
    {
     "name": "stdout",
     "output_type": "stream",
     "text": [
      "Files already downloaded and verified\n",
      "Files already downloaded and verified\n"
     ]
    }
   ],
   "source": [
    "# Build the test and train dataloaders\n",
    "cifar_binary_train_dataloader = construct_cifar_dataloader(batch_size=batch_size, is_train=True)\n",
    "cifar_binary_test_dataloader = construct_cifar_dataloader(batch_size=batch_size, is_train=False)"
   ]
  },
  {
   "cell_type": "markdown",
   "id": "1ccd9a27",
   "metadata": {},
   "source": [
    "### Model Training\n",
    "\n",
    "<hr>"
   ]
  },
  {
   "cell_type": "code",
   "execution_count": 228,
   "id": "faeeda4a",
   "metadata": {
    "ExecuteTime": {
     "end_time": "2025-04-16T23:18:02.717855Z",
     "start_time": "2025-04-16T23:18:02.705367Z"
    }
   },
   "outputs": [],
   "source": [
    "def train_model(model, model_name, num_epochs, optimizer, dataloader, loss_func, device):\n",
    "    \"\"\"Helper function used for training a specific binary image classifier model \n",
    "    for a specific number of epochs. This function requires the model's name for logging,\n",
    "    optimizer for training, initialized model weights, the loss function to be used, and\n",
    "    the PyTorch device that will be used for training.\"\"\"\n",
    "    # Move the model to the appropriate PyTorch device\n",
    "    model = model.to(device)\n",
    "    # Train the model for n total epochs\n",
    "    for epoch in range(num_epochs):\n",
    "        # Log the average loss over all of the batches\n",
    "        total_batch_loss = 0\n",
    "        # Create the training loop for each epoch\n",
    "        training_loop = tqdm.tqdm(dataloader, leave=False)\n",
    "        # Iterate over each batch of data in the training loop for M total iterations\n",
    "        for batch in training_loop:\n",
    "            # Zero out the gradient to prevent over-accumulation\n",
    "            optimizer.zero_grad()\n",
    "            # Extract the images and labels from the batch and move them to the model's device\n",
    "            images = batch[\"image\"].to(device)\n",
    "            labels = batch[\"label\"].to(device)\n",
    "            # Get the binary outputs from the model\n",
    "            outputs = model(images)\n",
    "            \n",
    "            # Apply the loss function using the ground truth labels\n",
    "            # against the predictions to get the loss and adjust the gradient\n",
    "            loss = loss_func(outputs, labels)\n",
    "            # Propagate the loss backward throughout the model's binary classification head\n",
    "            loss.backward()\n",
    "            # Use the optimizer to push the model's weights down the gradient\n",
    "            optimizer.step()\n",
    "            # Log the current batch loss for averaging across the epoch later\n",
    "            total_batch_loss += loss.item()\n",
    "\n",
    "            # Show the loss in the training loop\n",
    "            training_loop.set_postfix(loss = loss.item())\n",
    "\n",
    "        # Print the total average loss of the given model across all batches in the current epoch\n",
    "        print(\"The average training loss for model {0} after epoch {1} is {2}\".format(model_name, str(epoch+1), float(total_batch_loss/batch_size)))\n",
    "\n",
    "    # Return the model's trained weights once all batches and epochs of training are completed\n",
    "    return model"
   ]
  },
  {
   "cell_type": "code",
   "execution_count": 229,
   "id": "250e33a2",
   "metadata": {
    "ExecuteTime": {
     "end_time": "2025-04-16T23:21:40.539290Z",
     "start_time": "2025-04-16T23:18:03.038556Z"
    }
   },
   "outputs": [
    {
     "name": "stdout",
     "output_type": "stream",
     "text": [
      "Starting training for MobileNet-V3-Large\n"
     ]
    },
    {
     "name": "stderr",
     "output_type": "stream",
     "text": [
      "                                                             \r"
     ]
    },
    {
     "name": "stdout",
     "output_type": "stream",
     "text": [
      "The average training loss for model MobileNet-V3-Large after epoch 1 is 10.142789752222598\n"
     ]
    },
    {
     "name": "stderr",
     "output_type": "stream",
     "text": [
      "                                                             \r"
     ]
    },
    {
     "name": "stdout",
     "output_type": "stream",
     "text": [
      "The average training loss for model MobileNet-V3-Large after epoch 2 is 8.205080321989954\n"
     ]
    },
    {
     "name": "stderr",
     "output_type": "stream",
     "text": [
      "                                                             \r"
     ]
    },
    {
     "name": "stdout",
     "output_type": "stream",
     "text": [
      "The average training loss for model MobileNet-V3-Large after epoch 3 is 8.169025198556483\n"
     ]
    },
    {
     "name": "stderr",
     "output_type": "stream",
     "text": [
      "                                                             \r"
     ]
    },
    {
     "name": "stdout",
     "output_type": "stream",
     "text": [
      "The average training loss for model MobileNet-V3-Large after epoch 4 is 7.991138139739633\n"
     ]
    },
    {
     "name": "stderr",
     "output_type": "stream",
     "text": [
      "                                                             \r"
     ]
    },
    {
     "name": "stdout",
     "output_type": "stream",
     "text": [
      "The average training loss for model MobileNet-V3-Large after epoch 5 is 7.900091324932873\n"
     ]
    },
    {
     "name": "stderr",
     "output_type": "stream",
     "text": [
      "                                                             \r"
     ]
    },
    {
     "name": "stdout",
     "output_type": "stream",
     "text": [
      "The average training loss for model MobileNet-V3-Large after epoch 6 is 8.017630227841437\n"
     ]
    },
    {
     "name": "stderr",
     "output_type": "stream",
     "text": [
      "                                                             \r"
     ]
    },
    {
     "name": "stdout",
     "output_type": "stream",
     "text": [
      "The average training loss for model MobileNet-V3-Large after epoch 7 is 7.855473416857421\n"
     ]
    },
    {
     "name": "stderr",
     "output_type": "stream",
     "text": [
      "                                                             \r"
     ]
    },
    {
     "name": "stdout",
     "output_type": "stream",
     "text": [
      "The average training loss for model MobileNet-V3-Large after epoch 8 is 7.847528506070375\n"
     ]
    },
    {
     "name": "stderr",
     "output_type": "stream",
     "text": [
      "                                                             \r"
     ]
    },
    {
     "name": "stdout",
     "output_type": "stream",
     "text": [
      "The average training loss for model MobileNet-V3-Large after epoch 9 is 7.576858174987137\n"
     ]
    },
    {
     "name": "stderr",
     "output_type": "stream",
     "text": [
      "                                                             \r"
     ]
    },
    {
     "name": "stdout",
     "output_type": "stream",
     "text": [
      "The average training loss for model MobileNet-V3-Large after epoch 10 is 7.621103354729712\n",
      "Starting training for Swin-Tiny\n"
     ]
    },
    {
     "name": "stderr",
     "output_type": "stream",
     "text": [
      "                                                             \r"
     ]
    },
    {
     "name": "stdout",
     "output_type": "stream",
     "text": [
      "The average training loss for model Swin-Tiny after epoch 1 is 4.18337490549311\n"
     ]
    },
    {
     "name": "stderr",
     "output_type": "stream",
     "text": [
      "                                                              \r"
     ]
    },
    {
     "name": "stdout",
     "output_type": "stream",
     "text": [
      "The average training loss for model Swin-Tiny after epoch 2 is 2.405785462120548\n"
     ]
    },
    {
     "name": "stderr",
     "output_type": "stream",
     "text": [
      "                                                              \r"
     ]
    },
    {
     "name": "stdout",
     "output_type": "stream",
     "text": [
      "The average training loss for model Swin-Tiny after epoch 3 is 2.086466319975443\n"
     ]
    },
    {
     "name": "stderr",
     "output_type": "stream",
     "text": [
      "                                                              \r"
     ]
    },
    {
     "name": "stdout",
     "output_type": "stream",
     "text": [
      "The average training loss for model Swin-Tiny after epoch 4 is 1.9480996346101165\n"
     ]
    },
    {
     "name": "stderr",
     "output_type": "stream",
     "text": [
      "                                                              \r"
     ]
    },
    {
     "name": "stdout",
     "output_type": "stream",
     "text": [
      "The average training loss for model Swin-Tiny after epoch 5 is 1.8693359669996426\n"
     ]
    },
    {
     "name": "stderr",
     "output_type": "stream",
     "text": [
      "                                                              \r"
     ]
    },
    {
     "name": "stdout",
     "output_type": "stream",
     "text": [
      "The average training loss for model Swin-Tiny after epoch 6 is 1.8039571658009663\n"
     ]
    },
    {
     "name": "stderr",
     "output_type": "stream",
     "text": [
      "                                                              \r"
     ]
    },
    {
     "name": "stdout",
     "output_type": "stream",
     "text": [
      "The average training loss for model Swin-Tiny after epoch 7 is 1.7090406758943573\n"
     ]
    },
    {
     "name": "stderr",
     "output_type": "stream",
     "text": [
      "                                                              \r"
     ]
    },
    {
     "name": "stdout",
     "output_type": "stream",
     "text": [
      "The average training loss for model Swin-Tiny after epoch 8 is 1.7236440973356366\n"
     ]
    },
    {
     "name": "stderr",
     "output_type": "stream",
     "text": [
      "                                                              \r"
     ]
    },
    {
     "name": "stdout",
     "output_type": "stream",
     "text": [
      "The average training loss for model Swin-Tiny after epoch 9 is 1.7064873434137553\n"
     ]
    },
    {
     "name": "stderr",
     "output_type": "stream",
     "text": [
      "                                                              \r"
     ]
    },
    {
     "name": "stdout",
     "output_type": "stream",
     "text": [
      "The average training loss for model Swin-Tiny after epoch 10 is 1.6624676160281524\n",
      "Starting training for ResNet-50\n"
     ]
    },
    {
     "name": "stderr",
     "output_type": "stream",
     "text": [
      "                                                             \r"
     ]
    },
    {
     "name": "stdout",
     "output_type": "stream",
     "text": [
      "The average training loss for model ResNet-50 after epoch 1 is 6.286416359245777\n"
     ]
    },
    {
     "name": "stderr",
     "output_type": "stream",
     "text": [
      "                                                             \r"
     ]
    },
    {
     "name": "stdout",
     "output_type": "stream",
     "text": [
      "The average training loss for model ResNet-50 after epoch 2 is 5.614882782101631\n"
     ]
    },
    {
     "name": "stderr",
     "output_type": "stream",
     "text": [
      "                                                             \r"
     ]
    },
    {
     "name": "stdout",
     "output_type": "stream",
     "text": [
      "The average training loss for model ResNet-50 after epoch 3 is 5.294210284017026\n"
     ]
    },
    {
     "name": "stderr",
     "output_type": "stream",
     "text": [
      "                                                             \r"
     ]
    },
    {
     "name": "stdout",
     "output_type": "stream",
     "text": [
      "The average training loss for model ResNet-50 after epoch 4 is 5.082075017504394\n"
     ]
    },
    {
     "name": "stderr",
     "output_type": "stream",
     "text": [
      "                                                             \r"
     ]
    },
    {
     "name": "stdout",
     "output_type": "stream",
     "text": [
      "The average training loss for model ResNet-50 after epoch 5 is 5.0144618935883045\n"
     ]
    },
    {
     "name": "stderr",
     "output_type": "stream",
     "text": [
      "                                                             \r"
     ]
    },
    {
     "name": "stdout",
     "output_type": "stream",
     "text": [
      "The average training loss for model ResNet-50 after epoch 6 is 4.928883698768914\n"
     ]
    },
    {
     "name": "stderr",
     "output_type": "stream",
     "text": [
      "                                                             \r"
     ]
    },
    {
     "name": "stdout",
     "output_type": "stream",
     "text": [
      "The average training loss for model ResNet-50 after epoch 7 is 4.836920419707894\n"
     ]
    },
    {
     "name": "stderr",
     "output_type": "stream",
     "text": [
      "                                                             \r"
     ]
    },
    {
     "name": "stdout",
     "output_type": "stream",
     "text": [
      "The average training loss for model ResNet-50 after epoch 8 is 4.785890496335924\n"
     ]
    },
    {
     "name": "stderr",
     "output_type": "stream",
     "text": [
      "                                                             \r"
     ]
    },
    {
     "name": "stdout",
     "output_type": "stream",
     "text": [
      "The average training loss for model ResNet-50 after epoch 9 is 4.720196035690606\n"
     ]
    },
    {
     "name": "stderr",
     "output_type": "stream",
     "text": [
      "                                                             "
     ]
    },
    {
     "name": "stdout",
     "output_type": "stream",
     "text": [
      "The average training loss for model ResNet-50 after epoch 10 is 4.751226358115673\n"
     ]
    },
    {
     "name": "stderr",
     "output_type": "stream",
     "text": [
      "\r"
     ]
    }
   ],
   "source": [
    "# Iterate over all three models being evaluated\n",
    "trained_model_dictionary = {}\n",
    "# Select a GPU if one is available else use the CPU if one is not available\n",
    "device = \"cuda\" if torch.cuda.is_available() else \"cpu\"\n",
    "# Iterate over all models to train and train them on the binary CIFAR dataset\n",
    "for model_name in list(MODEL_MAP.keys()):\n",
    "    print(\"Starting training for {0}\".format(model_name))\n",
    "    # Initialize the base model with pretrained weights \n",
    "    # For binary fine-tuning\n",
    "    model_weights, model_optimizer = build_model(model_name, learning_rate=learning_rate)\n",
    "\n",
    "    # Train the binary image classification model's head (leaving the weights untouched)\n",
    "    # Using the CIFAR binary image classes.\n",
    "    trained_model_weights = train_model(model_weights, \n",
    "                                        model_name=model_name,\n",
    "                                        num_epochs=num_epochs, \n",
    "                                        optimizer=model_optimizer, \n",
    "                                        dataloader=cifar_binary_train_dataloader, \n",
    "                                        loss_func=torch.nn.BCELoss(),\n",
    "                                        device=device)\n",
    "    \n",
    "    # Save the trained model weights for evaluation later\n",
    "    trained_model_dictionary[model_name] = trained_model_weights"
   ]
  },
  {
   "cell_type": "markdown",
   "id": "c39c2bad",
   "metadata": {},
   "source": [
    "### Model Evaluation\n",
    "\n",
    "<hr>"
   ]
  },
  {
   "cell_type": "code",
   "execution_count": 230,
   "id": "5aa5e972",
   "metadata": {},
   "outputs": [],
   "source": [
    "def evaluate_trained_model(model_name, trained_model_weights, test_dataloader, device):\n",
    "    \"\"\"Helper function used to evaluate the given trained CIFAR binary image classification\n",
    "    model on the binary test set. This function prints the accuracy, precision, recall, f1-score,\n",
    "    and AUC score as well as the ROC curve for the given model.\"\"\"\n",
    "    predictions = []\n",
    "    labels = []\n",
    "    # Get predictions from the given model by iterating \n",
    "    # over all batches in the test set\n",
    "    for batch in test_dataloader:\n",
    "        # Move the test images to the appropriate device\n",
    "        test_images = batch[\"image\"].to(device)\n",
    "        # Gather the binary ground truth labels and \n",
    "        # convert them from one-hot encoded labels back\n",
    "        # into label form\n",
    "        test_labels = batch[\"label\"]\n",
    "        test_labels = torch.argmax(test_labels, dim=1)\n",
    "        # Save the results to a Python list for evaluation\n",
    "        for label in test_labels.tolist():\n",
    "            labels.append(label)\n",
    "\n",
    "        # Get the trained model's predictions and convert them\n",
    "        # from one-hot predictions into labels\n",
    "        test_predictions = trained_model_weights(test_images)\n",
    "        test_predictions = torch.argmax(test_predictions, dim=1)\n",
    "\n",
    "        # Save the model's predictions to a Python list for evaluation\n",
    "        for prediction in test_predictions.tolist():\n",
    "            predictions.append(prediction)\n",
    "\n",
    "    # Convert the prediction and label lists into NumPy arrays\n",
    "    # for easy integration into Scikit-Learn\n",
    "    predictions = np.array(predictions)\n",
    "    labels = np.array(labels)\n",
    "\n",
    "    # Print all of the binary classification metrics for the given model\n",
    "    print(\"Metrics for model {0}:\".format(model_name))\n",
    "    # Show the accuracy of the model's predictions vs the ground truth test set\n",
    "    print(\"Accuracy: {0}\".format(accuracy_score(y_true=labels, y_pred=predictions)))\n",
    "    # Show the precision, recall, and f1-scores between the model's predictions and ground truth test set\n",
    "    print(\"Precision Score: {0}\".format(precision_score(y_true=labels, y_pred=predictions)))\n",
    "    print(\"Recall Score: {0}\".format(recall_score(y_true=labels, y_pred=predictions)))\n",
    "    print(\"F1 Score: {0}\".format(f1_score(y_true=labels, y_pred=predictions)))\n",
    "\n",
    "    # Calculate the false positive rate and true positive rates of the model compared to the ground truth\n",
    "    fpr, tpr, _ = roc_curve(y_true=labels, y_score=predictions)\n",
    "    # Get the AUC under the false positive and true positive rate\n",
    "    roc_auc = auc(fpr, tpr)\n",
    "    \n",
    "    # Plot the ROC graph and AUC metric for the given trained model\n",
    "    RocCurveDisplay(fpr=fpr, tpr=tpr, roc_auc=roc_auc, estimator_name=model_name).from_predictions(y_true=labels, y_pred=predictions)\n",
    "    plt.title(\"ROC Curve for Model {0}\".format(model_name))\n",
    "    plt.show()"
   ]
  },
  {
   "cell_type": "code",
   "execution_count": 231,
   "id": "ef8c0164",
   "metadata": {},
   "outputs": [
    {
     "name": "stdout",
     "output_type": "stream",
     "text": [
      "Metrics for model MobileNet-V3-Large:\n",
      "Accuracy: 0.6295\n",
      "Precision Score: 0.629889669007021\n",
      "Recall Score: 0.628\n",
      "F1 Score: 0.628943415122684\n"
     ]
    },
    {
     "data": {
      "image/png": "[encoded data removed]",
      "text/plain": [
       "<Figure size 640x480 with 1 Axes>"
      ]
     },
     "metadata": {},
     "output_type": "display_data"
    },
    {
     "name": "stdout",
     "output_type": "stream",
     "text": [
      "Metrics for model Swin-Tiny:\n",
      "Accuracy: 0.943\n",
      "Precision Score: 0.9567010309278351\n",
      "Recall Score: 0.928\n",
      "F1 Score: 0.9421319796954315\n"
     ]
    },
    {
     "data": {
      "image/png": "[encoded data removed]",
      "text/plain": [
       "<Figure size 640x480 with 1 Axes>"
      ]
     },
     "metadata": {},
     "output_type": "display_data"
    },
    {
     "name": "stdout",
     "output_type": "stream",
     "text": [
      "Metrics for model ResNet-50:\n",
      "Accuracy: 0.762\n",
      "Precision Score: 0.7712215320910973\n",
      "Recall Score: 0.745\n",
      "F1 Score: 0.757884028484232\n"
     ]
    },
    {
     "data": {
      "image/png": "[encoded data removed]",
      "text/plain": [
       "<Figure size 640x480 with 1 Axes>"
      ]
     },
     "metadata": {},
     "output_type": "display_data"
    }
   ],
   "source": [
    "# Show the accuracy, precision score, recall score, F1-score, and ROC Curve for all three \n",
    "# fine-tuned binary image classifier models \n",
    "for model_name, pretrained_model_weights in trained_model_dictionary.items():\n",
    "    evaluate_trained_model(model_name, pretrained_model_weights, cifar_binary_test_dataloader, device)"
   ]
  },
  {
   "cell_type": "code",
   "execution_count": null,
   "id": "be516810",
   "metadata": {},
   "outputs": [],
   "source": []
  }
 ],
 "metadata": {
  "kernelspec": {
   "display_name": "ewactra_env",
   "language": "python",
   "name": "python3"
  },
  "language_info": {
   "codemirror_mode": {
    "name": "ipython",
    "version": 3
   },
   "file_extension": ".py",
   "mimetype": "text/x-python",
   "name": "python",
   "nbconvert_exporter": "python",
   "pygments_lexer": "ipython3",
   "version": "3.11.9"
  }
 },
 "nbformat": 4,
 "nbformat_minor": 5
}
