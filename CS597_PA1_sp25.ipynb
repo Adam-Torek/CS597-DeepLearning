{
 "cells": [
  {
   "cell_type": "markdown",
   "id": "d8b12078",
   "metadata": {},
   "source": [
    "# CS597 PA1 Implement Multi-Layer Perceptron Using PyTorch (100 pts)"
   ]
  },
  {
   "cell_type": "markdown",
   "id": "8d166a50",
   "metadata": {},
   "source": [
    "### Description\n",
    "In this Programming Assignment (PA), we aim to get familiar with the PyTorch framework.\n",
    "Specifically, we need to complete the coding tasks in the Jupyter Notebook Download Jupyter Notebook(the points for each part are clearly stated).\n",
    "After completing the tasks, please export the notebook as a PDF file and submit both the PDF file and the notebook to Canvas."
   ]
  },
  {
   "cell_type": "code",
   "execution_count": 1,
   "id": "8be1bf12",
   "metadata": {},
   "outputs": [
    {
     "name": "stderr",
     "output_type": "stream",
     "text": [
      "/home/adam-torek/.local/lib/python3.11/site-packages/tqdm/auto.py:21: TqdmWarning: IProgress not found. Please update jupyter and ipywidgets. See https://ipywidgets.readthedocs.io/en/stable/user_install.html\n",
      "  from .autonotebook import tqdm as notebook_tqdm\n"
     ]
    }
   ],
   "source": [
    "# Import necessary libraries\n",
    "import torch\n",
    "import torchvision.transforms as transforms\n",
    "from torchvision.datasets import MNIST\n",
    "from torch.utils.data import DataLoader\n",
    "import matplotlib.pyplot as plt\n",
    "import tqdm"
   ]
  },
  {
   "cell_type": "markdown",
   "id": "2c2ef2bc",
   "metadata": {},
   "source": [
    "## Load the MNIST dataset"
   ]
  },
  {
   "cell_type": "code",
   "execution_count": 95,
   "id": "d34aef5d",
   "metadata": {},
   "outputs": [],
   "source": [
    "# Load MNIST dataset\n",
    "# ref: https://pytorch.org/tutorials/beginner/basics/data_tutorial.html\n",
    "\n",
    "batch_size = 64\n",
    "transform = transforms.Compose([transforms.ToTensor(), transforms.Normalize((0.5,), (0.5,))])\n",
    "# train data\n",
    "train_dataset = MNIST(root='./data', train=True, transform=transform, download=True)\n",
    "train_loader = DataLoader(train_dataset, batch_size=batch_size, shuffle=True)\n",
    "# test data\n",
    "test_dataset = MNIST(root='./data', train=False, transform=transform, download=True)\n",
    "test_loader = DataLoader(test_dataset, batch_size=batch_size, shuffle=False)\n"
   ]
  },
  {
   "cell_type": "markdown",
   "id": "8d2d46c4",
   "metadata": {},
   "source": [
    "## Examine your model on the MNIST dataset"
   ]
  },
  {
   "cell_type": "code",
   "execution_count": 104,
   "id": "dc7e8598",
   "metadata": {},
   "outputs": [],
   "source": [
    "# Build your Multi-Layer Perceptron (MLP) model (20 pts)\n",
    "\n",
    "class MLP(torch.nn.Module):\n",
    "\n",
    "    def __init__(self, input_size, hidden_size, output_size):\n",
    "        \"\"\"Initialize a basic multi layer perceptron module with a \n",
    "        single hidden layer.\"\"\"\n",
    "        super(MLP, self).__init__()\n",
    "        \n",
    "        # Flatten the input image so it can fit into the input layer\n",
    "        self.flatten = torch.nn.Flatten()\n",
    "        # Create the input layer that takes in a flattened MNIST image and projects\n",
    "        # it into the hidden layer\n",
    "        self.inp = torch.nn.Linear(in_features=input_size, out_features=hidden_size)\n",
    "        # Use basic sigmoid activation functions between the hidden and linear layer\n",
    "        self.act1 = torch.nn.Sigmoid()\n",
    "        # Create the hidden layer and hidden layer sigmoid activation function with\n",
    "        # the given hidden size\n",
    "        self.hid = torch.nn.Linear(in_features=hidden_size, out_features=hidden_size)\n",
    "        self.act2 = torch.nn.Sigmoid()\n",
    "        # Create the output layer that takes in the hidden layer's output and \n",
    "        # produces a probability estimate for all 10 MNIST digit classes. This layer\n",
    "        # also uses a softmax function to convert the output values into a probability\n",
    "        # distribution that sums to 1. Softmax at the output layer is industry standard\n",
    "        # for deep learning. \n",
    "        self.out = torch.nn.Linear(in_features=hidden_size, out_features=output_size)\n",
    "        self.lastout = torch.nn.Softmax(dim=0)\n",
    "\n",
    "    def forward(self, x):\n",
    "        \"\"\"Takes the given MNIST image and sends it through all the layers of the \n",
    "        layers of the MLP model. This function will produce a probability distribution\n",
    "        that sums to 1 across all MNIST digits.\"\"\"\n",
    "        # Flatten the given MNIST image\n",
    "        flattened = self.flatten(x)\n",
    "        # Send the flattened image through the input layer\n",
    "        in_res = self.act1(self.inp(flattened))\n",
    "        # Send the hidden layer's output through the hidden layer\n",
    "        hid_res = self.act2(self.hid(in_res))\n",
    "        # Get the softmax distribution across all 10 MNIST classes\n",
    "        # from the hidden layer's result and return it\n",
    "        out_res = self.lastout(self.out(hid_res))\n",
    "        return out_res\n"
   ]
  },
  {
   "cell_type": "code",
   "execution_count": 105,
   "id": "ba5054c2",
   "metadata": {},
   "outputs": [],
   "source": [
    "# Instantiate the MLP model (10 pts)\n",
    "\n",
    "# Gather all possible image classes\n",
    "class_set = set()\n",
    "# Add all of the image classes to the set of images\n",
    "# to get the correct output size\n",
    "for _, image_class in iter(train_dataset):\n",
    "    class_set.add(image_class)\n",
    "\n",
    "first_data = next(iter(train_dataset)) # Get the first image of the dataset\n",
    "input_size = first_data[0].flatten().size()[0]  # what's input size? hints: flattened size for one instance\n",
    "hidden_size = 100 # define on your own\n",
    "output_size = len(class_set)  # what's output size for this classification tasks?\n",
    "mlp_model = MLP(input_size=input_size, hidden_size=hidden_size, output_size=output_size)\n"
   ]
  },
  {
   "cell_type": "code",
   "execution_count": 106,
   "id": "79b78a5c",
   "metadata": {},
   "outputs": [],
   "source": [
    "# Define the loss function and optimizer (10 pts)\n",
    "\n",
    "learning_rate = 0.0001 # define your own learning rate here\n",
    "loss_fn = torch.nn.CrossEntropyLoss()  # which loss function should we use here?\n",
    "optimizer = torch.optim.Adam(params=mlp_model.parameters(), lr=learning_rate)  # which optimizer do you use?\n",
    "device = 'cuda' if torch.cuda.is_available() else 'cpu' #Select either the GPU or CPU for training and inference \n",
    "                                                        #depending on which is available\n"
   ]
  },
  {
   "cell_type": "code",
   "execution_count": 107,
   "id": "426dab02",
   "metadata": {},
   "outputs": [
    {
     "name": "stderr",
     "output_type": "stream",
     "text": [
      "100%|██████████| 938/938 [00:05<00:00, 159.68it/s]\n",
      "100%|██████████| 938/938 [00:05<00:00, 159.72it/s]\n",
      "100%|██████████| 938/938 [00:06<00:00, 154.11it/s]\n",
      "100%|██████████| 938/938 [00:06<00:00, 152.99it/s]\n",
      "100%|██████████| 938/938 [00:05<00:00, 159.19it/s]\n",
      "100%|██████████| 938/938 [00:05<00:00, 156.80it/s]\n",
      "100%|██████████| 938/938 [00:06<00:00, 150.82it/s]\n",
      "100%|██████████| 938/938 [00:06<00:00, 150.50it/s]\n",
      "100%|██████████| 938/938 [00:06<00:00, 155.73it/s]\n",
      "100%|██████████| 938/938 [00:05<00:00, 158.68it/s]\n"
     ]
    }
   ],
   "source": [
    "# Train the model (30 pts)\n",
    "\n",
    "def train(train_loader, mlp_model, num_epochs):\n",
    "    \"\"\"Train the model.\"\"\"\n",
    "    # Move the given model to the correct training device\n",
    "    mlp_model = mlp_model.to(device)\n",
    "    # Train the model on the MNIST training dataset num_epochs times\n",
    "    for _ in range(0, num_epochs):\n",
    "        # Iterate over the training dataset batches once\n",
    "        for inputs, labels in tqdm.tqdm(train_loader):\n",
    "            # Zero the optimizer to prevent gradient accumulation\n",
    "            optimizer.zero_grad()\n",
    "            # Move the inputs and correct labels over to\n",
    "            # the PyTorch Model's device\n",
    "            inputs = inputs.to(device) \n",
    "            labels = labels.to(device)\n",
    "            # Get the predicted outputs from the PyTorch Model\n",
    "            outputs = mlp_model(inputs)\n",
    "            # Calculate the cross entropy loss\n",
    "            loss = loss_fn(outputs, labels)\n",
    "            # Propagate the loss backward through the PyTorch model's gradients\n",
    "            loss.backward()\n",
    "            # Use the optimizer to update the PyTorch model's weights\n",
    "            optimizer.step()\n",
    "\n",
    "\n",
    "num_epochs = 10  # feel free to change the number of training epochs\n",
    "train(train_loader, mlp_model, num_epochs)\n"
   ]
  },
  {
   "cell_type": "code",
   "execution_count": 108,
   "id": "3b16c9c4",
   "metadata": {},
   "outputs": [
    {
     "name": "stdout",
     "output_type": "stream",
     "text": [
      "The evaluation accuracy on the test dataset is 0.892 percent\n"
     ]
    }
   ],
   "source": [
    "# Evaluation by test accuracy (10 pts)\n",
    "\n",
    "def evaluation(test_loader):\n",
    "    \"\"\"Evaluate the model on the test data.\"\"\"\n",
    "    # Turn off torch gradients for evaluation since \n",
    "    # they are not needed\n",
    "    with torch.no_grad():\n",
    "        # Collect all correct label predictions and \n",
    "        # all samples seen for averaging\n",
    "        total_correct = 0\n",
    "        total_seen = 0\n",
    "        # Iterate through all inputs and labels by batch\n",
    "        # in the MIST test dataset\n",
    "        for inputs, labels in test_loader:\n",
    "            # Move inputs and labels to the correct PyTorch device\n",
    "            inputs = inputs.to(device)\n",
    "            labels = labels.to(device)\n",
    "            # Get the prediction probabilities from the model\n",
    "            outputs = mlp_model(inputs)\n",
    "            # Select the labels with the highest probability as the model predictions\n",
    "            predicted_labels = torch.argmax(outputs, dim=1)\n",
    "            # Get the total correct predictions for this batch\n",
    "            total_correct += (predicted_labels == labels).sum()\n",
    "            # Get the total size of the batch for averaging\n",
    "            total_seen += labels.size(0)\n",
    "\n",
    "        # Divide the total correct predictions by the total number of test instances to get the accuracy\n",
    "        total_accuracy = total_correct / total_seen\n",
    "        # Print the calculated accracy once calculated\n",
    "        print(\"The evaluation accuracy on the test dataset is %.3f percent\" % total_accuracy)\n",
    "\n",
    "evaluation(test_loader)\n"
   ]
  },
  {
   "cell_type": "code",
   "execution_count": 111,
   "id": "f53d0a6f",
   "metadata": {},
   "outputs": [
    {
     "data": {
      "image/png": "[encoded data removed]",
      "text/plain": [
       "<Figure size 640x480 with 10 Axes>"
      ]
     },
     "metadata": {},
     "output_type": "display_data"
    }
   ],
   "source": [
    "# Visualization (20 pts)\n",
    "\n",
    "def prediction(data):\n",
    "    \"\"\"Make predictions on the given dataset.\"\"\"\n",
    "    data = data.to(device)\n",
    "    probability_vals = mlp_model(data)\n",
    "    predicted_labels = torch.argmax(probability_vals, dim=1)\n",
    "    return predicted_labels\n",
    "\n",
    "def visualization(data, labels, num_data=10):\n",
    "    \"\"\"Visualize the given data and its prediction.\"\"\"\n",
    "    # make predictions\n",
    "    predictions = prediction(data)\n",
    "    # Create subplots and adjust size properly to make sure everything fits\n",
    "    _, axes = plt.subplots(nrows=1, ncols=num_data)\n",
    "    plt.subplots_adjust(left=5, right=10)\n",
    "    # Show all digits, predicted digit, and actual digit\n",
    "    for i in range(0, num_data):\n",
    "        # Show the digit image in binary\n",
    "        axes[i].imshow(data[i].squeeze(), cmap=plt.cm.binary)\n",
    "        # Turn off the axis ticks so they don't get in the awy\n",
    "        axes[i].set_xticks([])\n",
    "        axes[i].set_yticks([])\n",
    "        # Set the title of the subplots to the predicted digits from the model\n",
    "        # and actual digits that were received\n",
    "        axes[i].set_title(\"Predicted Digit: \" + str(predictions[i].item()) + \"\\n Actual Digit: \" + str(labels[i].item()), fontsize=24)\n",
    "\n",
    "# Load a batch of test data\n",
    "data, labels = next(iter(test_loader))\n",
    "\n",
    "# Visualize 10 test instances\n",
    "num_data = 10\n",
    "assert num_data <= batch_size\n",
    "visualization(data, labels, num_data)\n"
   ]
  },
  {
   "cell_type": "code",
   "execution_count": null,
   "id": "2b55018d",
   "metadata": {},
   "outputs": [],
   "source": []
  },
  {
   "cell_type": "code",
   "execution_count": null,
   "id": "066342b5",
   "metadata": {},
   "outputs": [],
   "source": []
  }
 ],
 "metadata": {
  "kernelspec": {
   "display_name": "EXLLMQL",
   "language": "python",
   "name": "python3"
  },
  "language_info": {
   "codemirror_mode": {
    "name": "ipython",
    "version": 3
   },
   "file_extension": ".py",
   "mimetype": "text/x-python",
   "name": "python",
   "nbconvert_exporter": "python",
   "pygments_lexer": "ipython3",
   "version": "3.11.8"
  }
 },
 "nbformat": 4,
 "nbformat_minor": 5
}
