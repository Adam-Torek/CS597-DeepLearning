{
 "cells": [
  {
   "cell_type": "markdown",
   "id": "d8b12078",
   "metadata": {},
   "source": [
    "# CS597 PA1 Implement Multi-Layer Perceptron Using PyTorch (100 pts)"
   ]
  },
  {
   "cell_type": "markdown",
   "id": "8d166a50",
   "metadata": {},
   "source": [
    "### Description\n",
    "In this Programming Assignment (PA), we aim to get familiar with the PyTorch framework.\n",
    "Specifically, we need to complete the coding tasks in the Jupyter Notebook Download Jupyter Notebook(the points for each part are clearly stated).\n",
    "After completing the tasks, please export the notebook as a PDF file and submit both the PDF file and the notebook to Canvas."
   ]
  },
  {
   "cell_type": "code",
   "execution_count": 1,
   "id": "8be1bf12",
   "metadata": {},
   "outputs": [
    {
     "name": "stderr",
     "output_type": "stream",
     "text": [
      "/home/adam-torek/.local/lib/python3.11/site-packages/tqdm/auto.py:21: TqdmWarning: IProgress not found. Please update jupyter and ipywidgets. See https://ipywidgets.readthedocs.io/en/stable/user_install.html\n",
      "  from .autonotebook import tqdm as notebook_tqdm\n"
     ]
    }
   ],
   "source": [
    "# Import necessary libraries\n",
    "import torch\n",
    "import torchvision.transforms as transforms\n",
    "from torchvision.datasets import MNIST\n",
    "from torch.utils.data import DataLoader\n",
    "import matplotlib.pyplot as plt\n",
    "import tqdm"
   ]
  },
  {
   "cell_type": "markdown",
   "id": "2c2ef2bc",
   "metadata": {},
   "source": [
    "## Load the MNIST dataset"
   ]
  },
  {
   "cell_type": "code",
   "execution_count": 2,
   "id": "d34aef5d",
   "metadata": {},
   "outputs": [],
   "source": [
    "# Load MNIST dataset\n",
    "# ref: https://pytorch.org/tutorials/beginner/basics/data_tutorial.html\n",
    "\n",
    "batch_size = 64\n",
    "transform = transforms.Compose([transforms.ToTensor(), transforms.Normalize((0.5,), (0.5,))])\n",
    "# train data\n",
    "train_dataset = MNIST(root='./data', train=True, transform=transform, download=True)\n",
    "train_loader = DataLoader(train_dataset, batch_size=batch_size, shuffle=True)\n",
    "# test data\n",
    "test_dataset = MNIST(root='./data', train=False, transform=transform, download=True)\n",
    "test_loader = DataLoader(test_dataset, batch_size=batch_size, shuffle=False)\n"
   ]
  },
  {
   "cell_type": "markdown",
   "id": "8d2d46c4",
   "metadata": {},
   "source": [
    "## Examine your model on the MNIST dataset"
   ]
  },
  {
   "cell_type": "code",
   "execution_count": 50,
   "id": "dc7e8598",
   "metadata": {},
   "outputs": [],
   "source": [
    "# Build your Multi-Layer Perceptron (MLP) model (20 pts)\n",
    "\n",
    "class MLP(torch.nn.Module):\n",
    "    def __init__(self, input_size, hidden_size, output_size):\n",
    "        super(MLP, self).__init__()\n",
    "        # TODO: build layers here\n",
    "        self.flatten = torch.nn.Flatten()\n",
    "        self.inp = torch.nn.Linear(in_features=input_size, out_features=hidden_size)\n",
    "        self.act1 = torch.nn.Sigmoid()\n",
    "        self.hid = torch.nn.Linear(in_features=hidden_size, out_features=hidden_size)\n",
    "        self.act2 = torch.nn.Sigmoid()\n",
    "        self.out = torch.nn.Linear(in_features=hidden_size, out_features=output_size)\n",
    "        self.lastout = torch.nn.Softmax(dim=0)\n",
    "\n",
    "    def forward(self, x):\n",
    "        # TODO: build the networks\n",
    "        in_res = self.inp(self.flatten(x))\n",
    "        hid_res = self.hid(self.act1(in_res))\n",
    "        out_res = self.out(self.act2(hid_res))\n",
    "        return self.lastout(out_res)\n"
   ]
  },
  {
   "cell_type": "code",
   "execution_count": 51,
   "id": "ba5054c2",
   "metadata": {},
   "outputs": [],
   "source": [
    "# Instantiate the MLP model (10 pts)\n",
    "\n",
    "# Gather all possible image classes\n",
    "class_set = set()\n",
    "for _, image_class in iter(train_dataset):\n",
    "    class_set.add(image_class)\n",
    "\n",
    "first_data = next(iter(train_dataset)) # Get the first image of the dataset\n",
    "input_size = first_data[0].flatten().size()[0]  # what's input size? hints: flattened size for one instance\n",
    "hidden_size =  100 # define on your own\n",
    "output_size = len(class_set)  # what's output size for this classification tasks?\n",
    "mlp_model = MLP(input_size=input_size, hidden_size=hidden_size, output_size=output_size)\n"
   ]
  },
  {
   "cell_type": "code",
   "execution_count": 55,
   "id": "79b78a5c",
   "metadata": {},
   "outputs": [],
   "source": [
    "# Define the loss function and optimizer (10 pts)\n",
    "\n",
    "learning_rate = 0.001 # define your own learning rate here\n",
    "loss_fn = torch.nn.CrossEntropyLoss()  # which loss function should we use here?\n",
    "optimizer = torch.optim.Adam(params=mlp_model.parameters(), lr=learning_rate)  # which optimizer do you use?\n",
    "device = 'cuda' if torch.cuda.is_available() else 'cpu'\n"
   ]
  },
  {
   "cell_type": "code",
   "execution_count": 54,
   "id": "426dab02",
   "metadata": {},
   "outputs": [
    {
     "name": "stderr",
     "output_type": "stream",
     "text": [
      "100%|██████████| 938/938 [00:06<00:00, 152.71it/s]\n",
      "100%|██████████| 938/938 [00:06<00:00, 153.48it/s]\n",
      "100%|██████████| 938/938 [00:05<00:00, 160.86it/s]\n",
      "100%|██████████| 938/938 [00:05<00:00, 161.91it/s]\n",
      "100%|██████████| 938/938 [00:05<00:00, 160.29it/s]\n",
      "100%|██████████| 938/938 [00:05<00:00, 157.40it/s]\n",
      "100%|██████████| 938/938 [00:05<00:00, 163.42it/s]\n",
      "100%|██████████| 938/938 [00:05<00:00, 163.71it/s]\n",
      "100%|██████████| 938/938 [00:05<00:00, 160.24it/s]\n",
      "100%|██████████| 938/938 [00:05<00:00, 159.78it/s]\n"
     ]
    }
   ],
   "source": [
    "# Train the model (30 pts)\n",
    "\n",
    "def train(train_loader, num_epochs):\n",
    "    \"\"\"Train the model.\"\"\"\n",
    "    # TODO: finish the train loop here\n",
    "    \n",
    "    model_to_train = mlp_model.to(device)\n",
    "    for _ in range(0, num_epochs):\n",
    "        for inputs, labels in tqdm.tqdm(train_loader):\n",
    "            optimizer.zero_grad()\n",
    "            inputs = inputs.to(device) \n",
    "            labels = labels.to(device)\n",
    "            outputs = model_to_train(inputs)\n",
    "            loss = loss_fn(outputs, labels)\n",
    "            loss.backward()\n",
    "            optimizer.step()\n",
    "\n",
    "\n",
    "num_epochs = 10  # feel free to change the number of training epochs\n",
    "train(train_loader, num_epochs)\n"
   ]
  },
  {
   "cell_type": "code",
   "execution_count": 70,
   "id": "3b16c9c4",
   "metadata": {},
   "outputs": [
    {
     "name": "stdout",
     "output_type": "stream",
     "text": [
      "The evaluation accuracy on the test dataset is 0.971 percent\n"
     ]
    }
   ],
   "source": [
    "# Evaluation by test accuracy (10 pts)\n",
    "\n",
    "def evaluation(test_loader):\n",
    "    \"\"\"Evaluate the model on the test data.\"\"\"\n",
    "    # TODO: finish the evaluation function and print out the test accuracy.\n",
    "    with torch.no_grad():\n",
    "        model = mlp_model.to(device)\n",
    "        total_correct = 0\n",
    "        total_seen = 0\n",
    "        for inputs, labels in test_loader:\n",
    "            inputs = inputs.to(device)\n",
    "            labels = labels.to(device)\n",
    "            outputs = model(inputs)\n",
    "            predicted_labels = torch.argmax(outputs, dim=1)\n",
    "            total_correct += (predicted_labels == labels).sum()\n",
    "            total_seen += labels.size(0)\n",
    "\n",
    "        total_accuracy = total_correct / total_seen\n",
    "        print(\"The evaluation accuracy on the test dataset is %.3f percent\" % total_accuracy)\n",
    "\n",
    "evaluation(test_loader)\n"
   ]
  },
  {
   "cell_type": "code",
   "execution_count": 9,
   "id": "f53d0a6f",
   "metadata": {},
   "outputs": [
    {
     "data": {
      "image/png": "[encoded data removed]",
      "text/plain": [
       "<Figure size 1500x300 with 10 Axes>"
      ]
     },
     "metadata": {},
     "output_type": "display_data"
    }
   ],
   "source": [
    "# Visualization (20 pts)\n",
    "\n",
    "def prediction(data):\n",
    "    \"\"\"Make predictions on the given dataset.\"\"\"\n",
    "    # TODO: finish the prediction function and return the predicted labels.\n",
    "    return predictions\n",
    "\n",
    "def visualization(data, labels, num_data=10):\n",
    "    \"\"\"Visualize the given data and its prediction.\"\"\"\n",
    "    # make predictions\n",
    "    predictions = prediction(data)\n",
    "    # TODO: plot the instances with true/predicted labels (in the title).\n",
    "\n",
    "# Load a batch of test data\n",
    "data, labels = next(iter(test_loader))\n",
    "\n",
    "# Visualize 10 test instances\n",
    "num_data = 10\n",
    "assert num_data <= batch_size\n",
    "visualization(data, labels, num_data)\n"
   ]
  },
  {
   "cell_type": "code",
   "execution_count": null,
   "id": "2b55018d",
   "metadata": {},
   "outputs": [],
   "source": []
  }
 ],
 "metadata": {
  "kernelspec": {
   "display_name": "EXLLMQL",
   "language": "python",
   "name": "python3"
  },
  "language_info": {
   "codemirror_mode": {
    "name": "ipython",
    "version": 3
   },
   "file_extension": ".py",
   "mimetype": "text/x-python",
   "name": "python",
   "nbconvert_exporter": "python",
   "pygments_lexer": "ipython3",
   "version": "3.11.8"
  }
 },
 "nbformat": 4,
 "nbformat_minor": 5
}
