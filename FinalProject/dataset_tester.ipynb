{
 "cells": [
  {
   "cell_type": "code",
   "execution_count": null,
   "id": "49c8fe64",
   "metadata": {},
   "outputs": [],
   "source": [
    "import datasets\n",
    "import transformers\n",
    "\n",
    "from transformers import BertConfig\n",
    "\n",
    "import torch\n",
    "import torch.nn as nn"
   ]
  },
  {
   "cell_type": "code",
   "execution_count": 5,
   "id": "58c3193e",
   "metadata": {},
   "outputs": [
    {
     "name": "stderr",
     "output_type": "stream",
     "text": [
      "Generating test split: 100%|██████████| 4358/4358 [00:00<00:00, 206913.93 examples/s]\n",
      "Generating train split: 100%|██████████| 1801350/1801350 [00:01<00:00, 1093778.97 examples/s]\n",
      "Generating validation split: 100%|██████████| 3760/3760 [00:00<00:00, 754104.29 examples/s]\n"
     ]
    }
   ],
   "source": [
    "wikitext_dataset = datasets.load_dataset(path=\"Salesforce/wikitext\", name=\"wikitext-103-v1\", split=\"train\")"
   ]
  },
  {
   "cell_type": "code",
   "execution_count": 10,
   "id": "7884fd5b",
   "metadata": {},
   "outputs": [
    {
     "data": {
      "text/plain": [
       "' The Johnson – Corey – Chaykovsky reaction ( sometimes referred to as the Corey – Chaykovsky reaction or CCR ) is a chemical reaction used in organic chemistry for the synthesis of epoxides , aziridines , and <unk> . It was discovered in 1961 by A. William Johnson and developed significantly by E. J. Corey and Michael Chaykovsky . The reaction involves addition of a sulfur ylide to a ketone , aldehyde , imine , or enone to produce the corresponding 3 @-@ membered ring . The reaction is <unk> favoring trans substitution in the product regardless of the initial stereochemistry . The synthesis of epoxides via this method serves as an important <unk> alternative to the traditional epoxidation reactions of olefins . \\n'"
      ]
     },
     "execution_count": 10,
     "metadata": {},
     "output_type": "execute_result"
    }
   ],
   "source": [
    "wikitext_dataset[1040][\"text\"]"
   ]
  },
  {
   "cell_type": "code",
   "execution_count": null,
   "id": "b78bf5eb",
   "metadata": {},
   "outputs": [],
   "source": [
    "f"
   ]
  }
 ],
 "metadata": {
  "kernelspec": {
   "display_name": "ewactra_env",
   "language": "python",
   "name": "python3"
  },
  "language_info": {
   "codemirror_mode": {
    "name": "ipython",
    "version": 3
   },
   "file_extension": ".py",
   "mimetype": "text/x-python",
   "name": "python",
   "nbconvert_exporter": "python",
   "pygments_lexer": "ipython3",
   "version": "3.11.9"
  }
 },
 "nbformat": 4,
 "nbformat_minor": 5
}
