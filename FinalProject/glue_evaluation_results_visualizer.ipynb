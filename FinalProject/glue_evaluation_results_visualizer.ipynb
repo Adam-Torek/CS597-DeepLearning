{
 "cells": [
  {
   "cell_type": "code",
   "execution_count": 1,
   "metadata": {},
   "outputs": [],
   "source": [
    "import pandas as pd\n",
    "import matplotlib.pyplot as plt\n",
    "\n",
    "import os"
   ]
  },
  {
   "cell_type": "code",
   "execution_count": 2,
   "metadata": {},
   "outputs": [],
   "source": [
    "glue_evaluation_results = pd.read_csv(os.path.join(\"evaluation_results\", \"ajtorek\", \"all_glue_results.csv\"))"
   ]
  },
  {
   "cell_type": "code",
   "execution_count": 3,
   "metadata": {},
   "outputs": [],
   "source": [
    "glue_evaluation_results.set_index(glue_evaluation_results[\"Unnamed: 0\"], inplace=True)"
   ]
  },
  {
   "cell_type": "code",
   "execution_count": 4,
   "metadata": {},
   "outputs": [],
   "source": [
    "glue_evaluation_results = glue_evaluation_results.drop(columns=[\"Unnamed: 0\"])"
   ]
  },
  {
   "cell_type": "code",
   "execution_count": 5,
   "metadata": {},
   "outputs": [],
   "source": [
    "glue_evaluation_results.drop(index=glue_evaluation_results.index[-1],axis=0,inplace=True)"
   ]
  },
  {
   "cell_type": "code",
   "execution_count": 16,
   "metadata": {},
   "outputs": [
    {
     "data": {
      "text/html": [
       "<div>\n",
       "<style scoped>\n",
       "    .dataframe tbody tr th:only-of-type {\n",
       "        vertical-align: middle;\n",
       "    }\n",
       "\n",
       "    .dataframe tbody tr th {\n",
       "        vertical-align: top;\n",
       "    }\n",
       "\n",
       "    .dataframe thead th {\n",
       "        text-align: right;\n",
       "    }\n",
       "</style>\n",
       "<table border=\"1\" class=\"dataframe\">\n",
       "  <thead>\n",
       "    <tr style=\"text-align: right;\">\n",
       "      <th></th>\n",
       "      <th>cola</th>\n",
       "      <th>mnli</th>\n",
       "      <th>mrpc</th>\n",
       "      <th>qnli</th>\n",
       "      <th>qqp</th>\n",
       "      <th>rte</th>\n",
       "      <th>sst2</th>\n",
       "      <th>wnli</th>\n",
       "    </tr>\n",
       "    <tr>\n",
       "      <th>Unnamed: 0</th>\n",
       "      <th></th>\n",
       "      <th></th>\n",
       "      <th></th>\n",
       "      <th></th>\n",
       "      <th></th>\n",
       "      <th></th>\n",
       "      <th></th>\n",
       "      <th></th>\n",
       "    </tr>\n",
       "  </thead>\n",
       "  <tbody>\n",
       "    <tr>\n",
       "      <th>electra-num_experts-8-top_k-3-capacity_factor-1.0</th>\n",
       "      <td>0.065189</td>\n",
       "      <td>0.634052</td>\n",
       "      <td>0.678922</td>\n",
       "      <td>0.605528</td>\n",
       "      <td>0.793297</td>\n",
       "      <td>0.472924</td>\n",
       "      <td>0.797018</td>\n",
       "      <td>0.549296</td>\n",
       "    </tr>\n",
       "    <tr>\n",
       "      <th>electra-num_experts-2-top_k-1-capacity_factor-1.0</th>\n",
       "      <td>0.000000</td>\n",
       "      <td>0.640155</td>\n",
       "      <td>0.688725</td>\n",
       "      <td>0.605711</td>\n",
       "      <td>0.793396</td>\n",
       "      <td>0.472924</td>\n",
       "      <td>0.793578</td>\n",
       "      <td>0.563380</td>\n",
       "    </tr>\n",
       "    <tr>\n",
       "      <th>electra-num_experts-2-top_k-2-capacity_factor-1.0</th>\n",
       "      <td>0.000000</td>\n",
       "      <td>0.627543</td>\n",
       "      <td>0.678922</td>\n",
       "      <td>0.600220</td>\n",
       "      <td>0.798343</td>\n",
       "      <td>0.472924</td>\n",
       "      <td>0.797018</td>\n",
       "      <td>0.563380</td>\n",
       "    </tr>\n",
       "    <tr>\n",
       "      <th>electra-num_experts-8-top_k-2-capacity_factor-1.0</th>\n",
       "      <td>-0.007887</td>\n",
       "      <td>0.627238</td>\n",
       "      <td>0.688725</td>\n",
       "      <td>0.599854</td>\n",
       "      <td>0.796785</td>\n",
       "      <td>0.487365</td>\n",
       "      <td>0.788991</td>\n",
       "      <td>0.563380</td>\n",
       "    </tr>\n",
       "    <tr>\n",
       "      <th>electra-num_experts-4-top_k-3-capacity_factor-1.0</th>\n",
       "      <td>0.000000</td>\n",
       "      <td>0.651139</td>\n",
       "      <td>0.688725</td>\n",
       "      <td>0.619989</td>\n",
       "      <td>0.796562</td>\n",
       "      <td>0.472924</td>\n",
       "      <td>0.801606</td>\n",
       "      <td>0.563380</td>\n",
       "    </tr>\n",
       "    <tr>\n",
       "      <th>electra-num_experts-4-top_k-4-capacity_factor-1.0</th>\n",
       "      <td>0.078015</td>\n",
       "      <td>0.647681</td>\n",
       "      <td>0.669118</td>\n",
       "      <td>0.614131</td>\n",
       "      <td>0.802127</td>\n",
       "      <td>0.472924</td>\n",
       "      <td>0.806193</td>\n",
       "      <td>0.563380</td>\n",
       "    </tr>\n",
       "    <tr>\n",
       "      <th>electra-num_experts-4-top_k-1-capacity_factor-1.0</th>\n",
       "      <td>0.037162</td>\n",
       "      <td>0.615643</td>\n",
       "      <td>0.681373</td>\n",
       "      <td>0.598206</td>\n",
       "      <td>0.787039</td>\n",
       "      <td>0.494585</td>\n",
       "      <td>0.788991</td>\n",
       "      <td>0.577465</td>\n",
       "    </tr>\n",
       "    <tr>\n",
       "      <th>electra-num_experts-8-top_k-1-capacity_factor-1.0</th>\n",
       "      <td>0.000000</td>\n",
       "      <td>0.610761</td>\n",
       "      <td>0.683824</td>\n",
       "      <td>0.609189</td>\n",
       "      <td>0.780707</td>\n",
       "      <td>0.519856</td>\n",
       "      <td>0.795872</td>\n",
       "      <td>0.591549</td>\n",
       "    </tr>\n",
       "    <tr>\n",
       "      <th>electra-num_experts-8-top_k-4-capacity_factor-1.0</th>\n",
       "      <td>0.047281</td>\n",
       "      <td>0.633950</td>\n",
       "      <td>0.676471</td>\n",
       "      <td>0.615047</td>\n",
       "      <td>0.802003</td>\n",
       "      <td>0.472924</td>\n",
       "      <td>0.798165</td>\n",
       "      <td>0.563380</td>\n",
       "    </tr>\n",
       "    <tr>\n",
       "      <th>electra-num_experts-4-top_k-2-capacity_factor-1.0</th>\n",
       "      <td>0.043259</td>\n",
       "      <td>0.629170</td>\n",
       "      <td>0.686275</td>\n",
       "      <td>0.598206</td>\n",
       "      <td>0.798219</td>\n",
       "      <td>0.472924</td>\n",
       "      <td>0.790138</td>\n",
       "      <td>0.577465</td>\n",
       "    </tr>\n",
       "  </tbody>\n",
       "</table>\n",
       "</div>"
      ],
      "text/plain": [
       "                                                       cola      mnli  \\\n",
       "Unnamed: 0                                                              \n",
       "electra-num_experts-8-top_k-3-capacity_factor-1.0  0.065189  0.634052   \n",
       "electra-num_experts-2-top_k-1-capacity_factor-1.0  0.000000  0.640155   \n",
       "electra-num_experts-2-top_k-2-capacity_factor-1.0  0.000000  0.627543   \n",
       "electra-num_experts-8-top_k-2-capacity_factor-1.0 -0.007887  0.627238   \n",
       "electra-num_experts-4-top_k-3-capacity_factor-1.0  0.000000  0.651139   \n",
       "electra-num_experts-4-top_k-4-capacity_factor-1.0  0.078015  0.647681   \n",
       "electra-num_experts-4-top_k-1-capacity_factor-1.0  0.037162  0.615643   \n",
       "electra-num_experts-8-top_k-1-capacity_factor-1.0  0.000000  0.610761   \n",
       "electra-num_experts-8-top_k-4-capacity_factor-1.0  0.047281  0.633950   \n",
       "electra-num_experts-4-top_k-2-capacity_factor-1.0  0.043259  0.629170   \n",
       "\n",
       "                                                       mrpc      qnli  \\\n",
       "Unnamed: 0                                                              \n",
       "electra-num_experts-8-top_k-3-capacity_factor-1.0  0.678922  0.605528   \n",
       "electra-num_experts-2-top_k-1-capacity_factor-1.0  0.688725  0.605711   \n",
       "electra-num_experts-2-top_k-2-capacity_factor-1.0  0.678922  0.600220   \n",
       "electra-num_experts-8-top_k-2-capacity_factor-1.0  0.688725  0.599854   \n",
       "electra-num_experts-4-top_k-3-capacity_factor-1.0  0.688725  0.619989   \n",
       "electra-num_experts-4-top_k-4-capacity_factor-1.0  0.669118  0.614131   \n",
       "electra-num_experts-4-top_k-1-capacity_factor-1.0  0.681373  0.598206   \n",
       "electra-num_experts-8-top_k-1-capacity_factor-1.0  0.683824  0.609189   \n",
       "electra-num_experts-8-top_k-4-capacity_factor-1.0  0.676471  0.615047   \n",
       "electra-num_experts-4-top_k-2-capacity_factor-1.0  0.686275  0.598206   \n",
       "\n",
       "                                                        qqp       rte  \\\n",
       "Unnamed: 0                                                              \n",
       "electra-num_experts-8-top_k-3-capacity_factor-1.0  0.793297  0.472924   \n",
       "electra-num_experts-2-top_k-1-capacity_factor-1.0  0.793396  0.472924   \n",
       "electra-num_experts-2-top_k-2-capacity_factor-1.0  0.798343  0.472924   \n",
       "electra-num_experts-8-top_k-2-capacity_factor-1.0  0.796785  0.487365   \n",
       "electra-num_experts-4-top_k-3-capacity_factor-1.0  0.796562  0.472924   \n",
       "electra-num_experts-4-top_k-4-capacity_factor-1.0  0.802127  0.472924   \n",
       "electra-num_experts-4-top_k-1-capacity_factor-1.0  0.787039  0.494585   \n",
       "electra-num_experts-8-top_k-1-capacity_factor-1.0  0.780707  0.519856   \n",
       "electra-num_experts-8-top_k-4-capacity_factor-1.0  0.802003  0.472924   \n",
       "electra-num_experts-4-top_k-2-capacity_factor-1.0  0.798219  0.472924   \n",
       "\n",
       "                                                       sst2      wnli  \n",
       "Unnamed: 0                                                             \n",
       "electra-num_experts-8-top_k-3-capacity_factor-1.0  0.797018  0.549296  \n",
       "electra-num_experts-2-top_k-1-capacity_factor-1.0  0.793578  0.563380  \n",
       "electra-num_experts-2-top_k-2-capacity_factor-1.0  0.797018  0.563380  \n",
       "electra-num_experts-8-top_k-2-capacity_factor-1.0  0.788991  0.563380  \n",
       "electra-num_experts-4-top_k-3-capacity_factor-1.0  0.801606  0.563380  \n",
       "electra-num_experts-4-top_k-4-capacity_factor-1.0  0.806193  0.563380  \n",
       "electra-num_experts-4-top_k-1-capacity_factor-1.0  0.788991  0.577465  \n",
       "electra-num_experts-8-top_k-1-capacity_factor-1.0  0.795872  0.591549  \n",
       "electra-num_experts-8-top_k-4-capacity_factor-1.0  0.798165  0.563380  \n",
       "electra-num_experts-4-top_k-2-capacity_factor-1.0  0.790138  0.577465  "
      ]
     },
     "execution_count": 16,
     "metadata": {},
     "output_type": "execute_result"
    }
   ],
   "source": [
    "glue_evaluation_results.drop('electra-num_experts-16-top_k-2-capacity_factor-1.0')"
   ]
  },
  {
   "cell_type": "code",
   "execution_count": 21,
   "metadata": {},
   "outputs": [],
   "source": [
    "glue_evaluation_results[\"glue\"] = glue_evaluation_results.mean(axis=1)"
   ]
  },
  {
   "cell_type": "code",
   "execution_count": 22,
   "metadata": {},
   "outputs": [
    {
     "data": {
      "text/plain": [
       "<Axes: xlabel='Unnamed: 0'>"
      ]
     },
     "execution_count": 22,
     "metadata": {},
     "output_type": "execute_result"
    },
    {
     "data": {
      "image/png": "[encoded data removed]",
      "text/plain": [
       "<Figure size 1000x500 with 1 Axes>"
      ]
     },
     "metadata": {},
     "output_type": "display_data"
    }
   ],
   "source": [
    "glue_evaluation_results[\"qqp\"].plot.bar(rot=90, figsize=(10,5))"
   ]
  },
  {
   "cell_type": "code",
   "execution_count": null,
   "metadata": {},
   "outputs": [],
   "source": []
  }
 ],
 "metadata": {
  "kernelspec": {
   "display_name": "electra_wac",
   "language": "python",
   "name": "python3"
  },
  "language_info": {
   "codemirror_mode": {
    "name": "ipython",
    "version": 3
   },
   "file_extension": ".py",
   "mimetype": "text/x-python",
   "name": "python",
   "nbconvert_exporter": "python",
   "pygments_lexer": "ipython3",
   "version": "3.11.11"
  }
 },
 "nbformat": 4,
 "nbformat_minor": 2
}
